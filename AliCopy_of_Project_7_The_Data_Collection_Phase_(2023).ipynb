{
  "cells": [
    {
      "cell_type": "markdown",
      "metadata": {
        "id": "DqXqHnhb-LaF"
      },
      "source": [
        "\n",
        "# <font color=\"orange\"> Project:  The Data Collection Phase </font>\n",
        "\n",
        "This project has several goals that will prepare you for next week's objective of using Python to access data made available via the Internet and APIs.\n",
        "\n",
        "What you should know following this project:\n",
        "- Recognize JSON and CSV data.\n",
        "- Know how to read JSON data.\n",
        "- Practice reading API documentation and API usage.\n",
        "- Know how to format URLs, including query strings, to access specific API data that you want.\n",
        "- Understand the concept of different API endpoints within the same overall API.\n",
        "\n",
        "If you feel comforable accessing API data and reading the resulting JSON data, then you are ready to use Python to programmatically access API data and use that data to solve a problem.\n"
      ]
    },
    {
      "cell_type": "markdown",
      "metadata": {
        "id": "rH6sfjqd6buo"
      },
      "source": [
        "## Part I - Study Documentation and Use a Simple API\n",
        "\n",
        "- Investigate and use the Dog API\n",
        "  - https://dog.ceo/dog-api/\n",
        "\n",
        "- You should test and (use a new code cell below to) copy the API endpoints that achieve the following: \n",
        "  - List all dog breeds\n",
        "  - Return a random image of a dog from the entire dataset of all dog images.\n",
        "    - Copy/paste the JSON that is returned by this endpoint.\n",
        "  - Return the list of all images for a **specific breed**.\n",
        "    - How many images are in the dataset for this breed.\n",
        "  - Return the list of all images for a **specific sub-breed**. \n",
        "    - HINT:  Look at the list of all breeds to find sub-breeds.\n",
        "  - Displays a JSON with a **random** image of a **specific breed**.  Copy/paste the resulting JSON below.\n",
        "  - Copy and paste in the code cell below the JSON returned by ANY API call that gives a `\"status\" : \"error\"` in the result.\n",
        "\n",
        "**NOTE**: If possible, avoid using examples that are explicitly highlighted on the *Dog API* site."
      ]
    },
    {
      "cell_type": "code",
      "execution_count": null,
      "metadata": {
        "id": "AtwR8HLdBa35",
        "vscode": {
          "languageId": "python"
        }
      },
      "outputs": [],
      "source": [
        "# COPY/PASTE your solutions here\n",
        "#List of all dog breeds\n",
        "https://dog.ceo/api/breeds/list/all\n",
        "#Returning a random image\n",
        "{\n",
        "    \"message\": \"https://images.dog.ceo/breeds/african/n02116738_3692.jpg\",\n",
        "    \"status\": \"success\"\n",
        "}\n",
        "#specific breed, breed = cattledog \n",
        "https://dog.ceo/api/breed/cattledog/images\n",
        "# There are 17 images for cattledog.\n",
        "# the list of all images for a specific sub-breed\n",
        "https://dog.ceo/api/breed/cattledog/list # There is just one sub breed for cattledog which is australian. As a result, all the images of cattledog are the images of australian breed. Therefore, there are 17 images for australian sub-breed.\n",
        "# Display a JSON with a random image of a specific breed\n",
        "{\"message\":\"https:\\/\\/images.dog.ceo\\/breeds\\/cattledog-australian\\/IMG_1042.jpg\",\"status\":\"success\"}\n",
        "#the following code gives an error status since the breed type is omitted from the URL.\n",
        "{\"status\":\"error\",\"message\":\"No route found for \\\"GET http:\\/\\/dog.ceo\\/api\\/breed\\/\\/images\\/random\\\" with code: 0\",\"code\":404}"
      ]
    },
    {
      "cell_type": "markdown",
      "metadata": {
        "id": "5dhkY_JZwwFk"
      },
      "source": [
        "## Part II - Investigate and Use a New API Provided by the National Park Service\n",
        "\n",
        "You will investigate the [**National Park Service API**](https://www.nps.gov/subjects/developer/api-documentation.htm#/). \n",
        "\n",
        "- Register for an API key.\n",
        "- Peruse the documentation above.\n",
        "- What is the `base URL` that will be included in all NPS API calls?\n",
        "- Try the `activities` endpoint. How many categories of activities are returned by this API call?\n",
        "- Which API endpoint can list all the `parks` in their database. \n",
        "  - Write down the URL for this API endpoint.\n",
        "  - Execute that API call.\n",
        "  - How many `JSON name/value pairs` are contained within the **top-level JSON object** that is returned by the call.\n",
        "  - How many parks are in the database, based on this API call?  \n",
        "  - How many JSON `park objects` are returned by the API call that you just executed?\n",
        "  - How can you modify the `query string` to have `100 park objects` returned in the JSON? Execute that API call to verify.\n",
        "- Execute the `parks` API call for a specific national park of your choice.\n",
        "  - Write down the API call\n",
        "  - Copy and paste the values that have this information about the park:\n",
        "    - Full name of the park\n",
        "    - Description of the park\n",
        "    - The state(s) that the park is in.\n",
        "    - Current weather information about the park."
      ]
    },
    {
      "cell_type": "code",
      "execution_count": null,
      "metadata": {
        "id": "rZrlekBc_QU4",
        "vscode": {
          "languageId": "python"
        }
      },
      "outputs": [],
      "source": [
        "# COPY/PASTE your solutions here\n",
        "\n",
        "# Base URL\n",
        "developer.nps.gov/api/v1 \n",
        "\n",
        "# activities endpoint\n",
        "  40 activities\n",
        "# All parks\n",
        "parks endpoint\n",
        "https://developer.nps.gov/api/v1/parks?api_key=vwXMj8pHPeydvgwOGItz5gO0ebmnqfKxtPIFc8QW\n",
        "# Top-level object's keys\n",
        " \n",
        "total, limit, start, data\n",
        " \n",
        "# Total number of parks\n",
        "    468\n",
        "# Total park objects returned by this call\n",
        "    50\n",
        "# How can I get 100 park objects returned?\n",
        "I need to change the limit from 50 to 100 as follows:\n",
        "https://developer.nps.gov/api/v1/parks?limit=100&api_key=vwXMj8pHPeydvgwOGItz5gO0ebmnqfKxtPIFc8QW\n",
        "# executing NP API for a specific NP. \"CapulinVolcano National Monument in New Mexico\"\n",
        "https://developer.nps.gov/api/v1/parks?parkCode=cavo&api_key=vwXMj8pHPeydvgwOGItz5gO0ebmnqfKxtPIFc8QW\n",
        "fullName: \"Capulin Volcano National Monument\"\n",
        "description\t\"Part of the 8,000 square mile Raton-Clayton Volcanic Field, Capulin Volcano showcases the volcanic geology of northeastern New Mexico. The views are spectacular day or night, with views of 4 different states from the volcanic rim and one of the darkest night skies in the country. Whether it's a quick stop or a day's trip, enjoy exploring the landscape of this unique volcano!\"\n",
        "states\t\"NM\"\n",
        "weatherInfo\t\"Elevations range from 7247 feet at the park visitor center to 8182 feet on the crater rim trail. Summers usually have mild temperatures with highs averaging in the low to mid 80s F/30C with occasional afternoon thunderstorms. Winters average from 40F/5C to 50F/10C, but temperatures vary. Snowfall is most common from December into April and may cause temporary closures of the volcano road. Sunny winter days are beautiful days to be in the park. Check weather conditions before visiting.\"\n",
        "\n",
        "\n"
      ]
    },
    {
      "cell_type": "markdown",
      "metadata": {
        "id": "a8gPHOFEe-Oa"
      },
      "source": [
        "## Part III - Work with NY Times APIs\n",
        "\n",
        "You will investigate several [**NY Times APIs**](https://www.alphavantage.co/documentation/). \n",
        "\n",
        "- Register for a [NY Times API key](https://developer.nytimes.com/get-started).\n"
      ]
    },
    {
      "cell_type": "markdown",
      "metadata": {
        "id": "MihkHdo8DTEs"
      },
      "source": [
        "### Part III (a) - Working with the NY Times Most Popular API\n",
        "\n",
        "- Go to the Developer page for the `Most Popular` NY Times API:\n",
        "[https://developer.nytimes.com/docs/most-popular-product/1/overview](https://developer.nytimes.com/docs/most-popular-product/1/overview)\n",
        "\n",
        "\n",
        "- Look at the `Paths` on the left-hand-side and select the `viewed` endpoint.\n",
        "\n",
        " <img src='https://drive.google.com/uc?id=1FfU_8NLHQXPBjDZTnrBJCY1dY9AD0qDx'  height=300 width=200/>\n",
        "\n",
        "- What data does the endpoint return (as described by the NY Times documentation)?\n",
        "\n",
        "- Use this endpoint to display the most popular articles in the last day.  Last 7 days.\n",
        "\n",
        "- What is the JSON key that tells you how many articles were returned?\n",
        "\n",
        "- How many articles were returned in the resulting JSON for 1 day? 7 days?\n",
        "\n",
        "- What is the JSON key that stores the value of each article title returned?\n",
        "\n",
        "- Modify the endpoint to display the most popular articles over the last 30 days.\n",
        "\n",
        "- Can you display the articles over the last 20 days with a simple API call?  (Yes or No answer.)\n"
      ]
    },
    {
      "cell_type": "code",
      "execution_count": null,
      "metadata": {
        "id": "WBapNyo-md9Y",
        "vscode": {
          "languageId": "python"
        }
      },
      "outputs": [],
      "source": [
        "#1_ The endpoint returns an array of the most viewed articles on NYTimes.com for specific period of time(1 day, 7 days, or 30 days)\n",
        "#2_Most popular in the last day:\n",
        "https://api.nytimes.com/svc/mostpopular/v2/viewed/1.json?api-key=kEBQsEG9EGEfQNutEqFNXBSq6m7etGAk # default \n",
        "#Most popular in the last 7 days\n",
        "https://api.nytimes.com/svc/mostpopular/v2/viewed/7.json?api-key=kEBQsEG9EGEfQNutEqFNXBSq6m7etGAk\n",
        "#JSON key for the number of articles returned\n",
        "num_results:\n",
        "# 20 articles for both 1day and 7 days\n",
        "# The JSON ley that stores the value of each article is \"title:\"\n",
        "# the most popular articles over the last 30 days\n",
        "https://api.nytimes.com/svc/mostpopular/v2/viewed/30.json?api-key=kEBQsEG9EGEfQNutEqFNXBSq6m7etGAk\n",
        "# The answer is: No"
      ]
    },
    {
      "cell_type": "markdown",
      "metadata": {
        "id": "og9EPv0PpxHN"
      },
      "source": [
        "### Part III (b) - Working with the NY Times Movie Reviews API\n",
        "\n",
        "- Find the NY Times Developer page that describes the `Movie Reviews` API.\n",
        "\n",
        "- Find the Movie Reviews API Overview.\n",
        "\n",
        "- Use the `search.json` endpoint to search for the Movie Review for the movie `Skyfall`. Use the `Example Call` to understand HOW to make this API call.\n",
        "\n",
        "- What is the URL for the original NY Times movie review of `Skyfall`?\n",
        "\n",
        "- Change the `query` parameter for the `search.json` endpoint to search for information about your favorite movie!\n",
        "\n",
        "- What is the API endpoint and API call that will return a list of critics picks movies?\n",
        "\n"
      ]
    },
    {
      "cell_type": "code",
      "execution_count": null,
      "metadata": {
        "id": "zIOF4VhlmesV",
        "vscode": {
          "languageId": "python"
        }
      },
      "outputs": [],
      "source": [
        "#URL for the original NYT movie review of \"skyfall\"\n",
        "\"https://www.nytimes.com/2012/11/08/movies/skyfall-with-daniel-craig-as-james-bond.html\"\n",
        "#my favorite movie\n",
        "https://api.nytimes.com/svc/movies/v2/reviews/search.json?query=to%20kill%20a%20mockingbird&api-key=kEBQsEG9EGEfQNutEqFNXBSq6m7etGAk\n",
        "#API endpoint that returns a list of critics picks movies\n",
        "/reviews/picks.json\n",
        "#ApI call that returns a list of critics pick movies\n",
        "https://api.nytimes.com/svc/movies/v2/reviews/picks.json?api-key=kEBQsEG9EGEfQNutEqFNXBSq6m7etGAk\n"
      ]
    }
  ],
  "metadata": {
    "colab": {
      "provenance": []
    },
    "kernelspec": {
      "display_name": "Python 3",
      "name": "python3"
    }
  },
  "nbformat": 4,
  "nbformat_minor": 0
}
